{
 "cells": [
  {
   "cell_type": "code",
   "execution_count": 1,
   "metadata": {},
   "outputs": [],
   "source": [
    "#!/usr/bin/env python3\n",
    "import os\n",
    "import fnmatch\n",
    "import re\n",
    "import datetime\n",
    "import argparse"
   ]
  },
  {
   "cell_type": "markdown",
   "metadata": {},
   "source": [
    "**Function to search by Filename**"
   ]
  },
  {
   "cell_type": "code",
   "execution_count": 2,
   "metadata": {},
   "outputs": [],
   "source": [
    "def search_by_filename(directory, pattern):\n",
    "    for root, dirs, files in os.walk(directory):\n",
    "        for filename in fnmatch.filter(files, pattern):\n",
    "            yield os.path.join(root, filename)"
   ]
  },
  {
   "cell_type": "markdown",
   "metadata": {},
   "source": [
    "**Function For search by Content**"
   ]
  },
  {
   "cell_type": "code",
   "execution_count": null,
   "metadata": {},
   "outputs": [],
   "source": [
    "def search_by_content(filepath, search_text):\n",
    "    try:\n",
    "        with open(filepath, 'r', encoding='utf-8', errors='ignore') as file:\n",
    "            for line in file:\n",
    "                if search_text in line:\n",
    "                    return True\n",
    "    except Exception as e:\n",
    "        print(f\"Error reading {filepath}: {e}\")\n",
    "    return False"
   ]
  },
  {
   "cell_type": "markdown",
   "metadata": {},
   "source": [
    "**Function For Filtering by File Type**"
   ]
  },
  {
   "cell_type": "code",
   "execution_count": null,
   "metadata": {},
   "outputs": [],
   "source": [
    "def filter_by_file_type(filepath, file_type):\n",
    "    return filepath.endswith(f\".{file_type}\")"
   ]
  },
  {
   "cell_type": "markdown",
   "metadata": {},
   "source": [
    "**Function For Filtering Data**"
   ]
  },
  {
   "cell_type": "code",
   "execution_count": null,
   "metadata": {},
   "outputs": [],
   "source": [
    "def filter_by_date(filepath, start_date, end_date):\n",
    "    file_mod_time = os.path.getmtime(filepath)\n",
    "    file_date = datetime.datetime.fromtimestamp(file_mod_time).date()\n",
    "    return start_date <= file_date <= end_date"
   ]
  },
  {
   "cell_type": "markdown",
   "metadata": {},
   "source": [
    "**MAIN FUNCTIOn**"
   ]
  },
  {
   "cell_type": "code",
   "execution_count": null,
   "metadata": {},
   "outputs": [],
   "source": [
    "def main():\n",
    "    parser = argparse.ArgumentParser(\n",
    "        description=\"Search files in current directory based on different parameters.\")\n",
    "\n",
    "    # Positional argument for filename pattern\n",
    "    parser.add_argument('filename_pattern', nargs='?', default=\"*\",\n",
    "                        help=\"Pattern to match filenames (e.g. *.py)\")\n",
    "\n",
    "    # Optional arguments for content, file type, and date range\n",
    "    parser.add_argument('-c', '--content',\n",
    "                        help=\"Search for specific content in files.\")\n",
    "    parser.add_argument(\n",
    "        '-t', '--type', help=\"Filter files by extension (e.g., txt, py, xlsx).\")\n",
    "    parser.add_argument(\n",
    "        '--date', help=\"Filter files by date range in format YYYY-MM-DD:YYYY-MM-DD.\")\n",
    "\n",
    "    args = parser.parse_args()\n",
    "\n",
    "    directory = os.getcwd()  # Current directory\n",
    "    filename_pattern = args.filename_pattern\n",
    "\n",
    "    # Parse date range\n",
    "    start_date = end_date = None\n",
    "    if args.date:\n",
    "        try:\n",
    "            start_str, end_str = args.date.split('-')\n",
    "            start_date = datetime.datetime.strptime(\n",
    "                start_str, '%Y-%m-%d').date()\n",
    "            end_date = datetime.datetime.strptime(end_str, '%Y-%m-%d').date()\n",
    "        except ValueError:\n",
    "            print(\"Invalid date range format. Use YYYY-MM-DD:YYYY-MM-DD.\")\n",
    "            return\n",
    "\n",
    "    # Search and filter files\n",
    "    for filepath in search_by_filename(directory, filename_pattern):\n",
    "        if args.content and not search_by_content(filepath, args.content):\n",
    "            continue\n",
    "        if args.type and not filter_by_file_type(filepath, args.type):\n",
    "            continue\n",
    "        if start_date and end_date and not filter_by_date(filepath, start_date, end_date):\n",
    "            continue\n",
    "\n",
    "        # Print matching file paths\n",
    "        print(filepath)"
   ]
  },
  {
   "cell_type": "code",
   "execution_count": null,
   "metadata": {},
   "outputs": [],
   "source": [
    "if __name__ == \"__main__\":\n",
    "    main()"
   ]
  }
 ],
 "metadata": {
  "kernelspec": {
   "display_name": "Testing",
   "language": "python",
   "name": "python3"
  },
  "language_info": {
   "codemirror_mode": {
    "name": "ipython",
    "version": 3
   },
   "file_extension": ".py",
   "mimetype": "text/x-python",
   "name": "python",
   "nbconvert_exporter": "python",
   "pygments_lexer": "ipython3",
   "version": "3.11.9"
  },
  "orig_nbformat": 4
 },
 "nbformat": 4,
 "nbformat_minor": 2
}
